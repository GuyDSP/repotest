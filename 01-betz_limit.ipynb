{
 "cells": [
  {
   "cell_type": "markdown",
   "id": "a18a0bd2",
   "metadata": {},
   "source": [
    "https://openmdao.org/newdocs/versions/latest/examples/betz_limit.html\n",
    "\n"
   ]
  },
  {
   "cell_type": "markdown",
   "id": "212e0dd3",
   "metadata": {},
   "source": [
    "In CoSApp, we identify the following high level system:\n",
    "- \"component\" is consistant with physical component (compressor, aircraft) and may integrate several physics\n",
    "- \"physics\" is consistant with a physics (geometry, aerodynamics, mechanics, control, ...)\n",
    "\n",
    "A single system is created with internal functions. "
   ]
  },
  {
   "cell_type": "code",
   "execution_count": 1,
   "id": "10ce6f46",
   "metadata": {},
   "outputs": [],
   "source": [
    "from cosapp.systems import System\n",
    "\n",
    "class ActuatorDisc(System):\n",
    "    \"\"\"Simple wind turbine model based on actuator disc theory\"\"\"\n",
    "\n",
    "    def setup(self):\n",
    "\n",
    "        # Inputs\n",
    "        self.add_inward('a', 0.5, desc=\"Induced Velocity Factor\")\n",
    "        self.add_inward('Area', 10.0, unit=\"m**2\", desc=\"Rotor disc area\")\n",
    "        self.add_inward('rho', 1.225, unit=\"kg/m**3\", desc=\"air density\")\n",
    "        self.add_inward('Vu', 10.0, unit=\"m/s\", desc=\"Freestream air velocity, upstream of rotor\")\n",
    "\n",
    "        # Outputs\n",
    "        self.add_outward('Vr', 0.0, unit=\"m/s\", desc=\"Air velocity at rotor exit plane\")\n",
    "        self.add_outward('Vd', 0.0, unit=\"m/s\", desc=\"Slipstream air velocity, downstream of rotor\")\n",
    "        self.add_outward('Ct', 0.0, desc=\"Thrust Coefficient\")\n",
    "        self.add_outward('thrust', 0.0, unit=\"N\", desc=\"Thrust produced by the rotor\")\n",
    "        self.add_outward('Cp', 0.0, desc=\"Power Coefficient\")\n",
    "        self.add_outward('power', 0.0, unit=\"W\", desc=\"Power produced by the rotor\")\n",
    "        \n",
    "        # design methods\n",
    "        self.add_design_method('Cp').add_unknown('a', lower_bound=0., upper_bound=1.)\n",
    "\n",
    "        \n",
    "    def compute(self):\n",
    "        \"\"\" Considering the entire rotor as a single disc that extracts\n",
    "        velocity uniformly from the incoming flow and converts it to\n",
    "        power.\"\"\"\n",
    "\n",
    "        a = self.a\n",
    "        Vu = self.Vu\n",
    "\n",
    "        qA = .5 * self.rho * self.Area * Vu ** 2\n",
    "\n",
    "        self.Vd = Vd = Vu * (1 - 2 * a)\n",
    "        self.Vr = .5 * (Vu + Vd)\n",
    "\n",
    "        self.Ct = Ct = 4 * a * (1 - a)\n",
    "        self.thrust = Ct * qA\n",
    "\n",
    "        self.Cp = Cp = Ct * (1 - a)\n",
    "        self.power = Cp * qA * Vu"
   ]
  },
  {
   "cell_type": "code",
   "execution_count": 2,
   "id": "efd5c753",
   "metadata": {},
   "outputs": [],
   "source": [
    "# create System\n",
    "prob = ActuatorDisc('wind_turbine')\n",
    "prob.a = .5\n",
    "prob.Area = 10.0\n",
    "prob.rho = 1.225\n",
    "prob.Vu = 10.0\n",
    "\n",
    "# setup the optimization\n",
    "from cosapp.drivers import Optimizer\n",
    "\n",
    "opt = prob.add_driver(Optimizer('optimization'))\n",
    "\n",
    "opt.runner.design.extend(prob.design_methods['Cp'])\n",
    "opt.runner.set_objective('-Cp')\n",
    "\n",
    "prob.run_drivers()\n",
    "\n",
    "assert abs(prob.a - 1/3) < 1e-4\n",
    "assert abs(prob.Cp - 16/27) < 1e-6"
   ]
  }
 ],
 "metadata": {
  "kernelspec": {
   "display_name": "Python [conda env:cosapp_use]",
   "language": "python",
   "name": "conda-env-cosapp_use-py"
  },
  "language_info": {
   "codemirror_mode": {
    "name": "ipython",
    "version": 3
   },
   "file_extension": ".py",
   "mimetype": "text/x-python",
   "name": "python",
   "nbconvert_exporter": "python",
   "pygments_lexer": "ipython3",
   "version": "3.9.2"
  }
 },
 "nbformat": 4,
 "nbformat_minor": 5
}