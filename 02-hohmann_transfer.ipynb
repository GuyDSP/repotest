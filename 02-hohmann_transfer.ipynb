{
 "cells": [
  {
   "cell_type": "markdown",
   "id": "11100245",
   "metadata": {},
   "source": [
    "https://openmdao.org/newdocs/versions/latest/examples/hohmann_transfer/hohmann_transfer.html\n",
    "https://en.wikipedia.org/wiki/Hohmann_transfer_orbit"
   ]
  },
  {
   "cell_type": "code",
   "execution_count": 40,
   "id": "59b5a50f",
   "metadata": {},
   "outputs": [],
   "source": [
    "from cosapp.systems import System\n",
    "from cosapp.drivers import Optimizer\n",
    "\n",
    "import numpy as np"
   ]
  },
  {
   "cell_type": "code",
   "execution_count": 49,
   "id": "245d0389",
   "metadata": {},
   "outputs": [],
   "source": [
    "class Hohmann(System):\n",
    "\n",
    "    def setup(self):\n",
    "        self.add_inward('mu', 398600.4418, desc='Gravitational parameter of central body', unit='km**3/s**2')\n",
    "\n",
    "        self.add_inward('rp', 7000.0, desc='periapsis radius', unit='km')\n",
    "        self.add_inward('ra', 42164.0, desc='apoapsis radius', unit='km')\n",
    "        self.add_inward('incp', 28.5, unit='deg',desc='periapsis inclinaison')\n",
    "        self.add_inward('inca', 0., unit='deg', desc='apoapsis inclinaison')\n",
    "\n",
    "        self.add_inward('inc', self.incp, unit='deg', desc='GTO inclinaison')\n",
    "\n",
    "        self.add_outward('delta_v', 0., unit='km/s')\n",
    "        self.add_outward('delta_inc', 0., unit='deg')\n",
    "\n",
    "        self.add_outward('vp', 0., unit='km/s')\n",
    "        self.add_outward('va', 0., unit='km/s')\n",
    "        self.add_outward('vp_transfer', 0., unit='km/s')\n",
    "        self.add_outward('va_transfer', 0., unit='km/s')\n",
    "        \n",
    "        # design method\n",
    "        self.add_design_method('gto_inc').add_unknown('inc')\n",
    "\n",
    "        \n",
    "    def compute(self):\n",
    "        def vCircComp(r, mu=398600.4418) :\n",
    "            \"\"\"\n",
    "            Computes the circular orbit velocity given a radius and gravitational\n",
    "            parameter.\n",
    "            \"\"\"\n",
    "            return np.sqrt(mu / r)\n",
    "\n",
    "        def transferOrbitComp(rp, ra, mu=398600.4418) -> (float, float):\n",
    "            a = (ra + rp) / 2.0\n",
    "            e = (a - rp) / a\n",
    "            p = a * (1.0 - e ** 2)\n",
    "            h = np.sqrt(mu * p)\n",
    "\n",
    "            vp = h / rp\n",
    "            va = h / ra\n",
    "            return (vp, va)\n",
    "\n",
    "        def delta_vComp(v1, v2, dinc) -> float:\n",
    "            \"\"\"\n",
    "            Compute the delta-V performed given the magnitude of two velocities\n",
    "            and the angle between them.\n",
    "            \"\"\"\n",
    "            return np.sqrt(v1 ** 2 + v2 ** 2 - 2.0 * v1 * v2 * np.cos(dinc * np.pi / 180.))        \n",
    "        \n",
    "        mu = self.mu\n",
    "        \n",
    "        rp = self.rp\n",
    "        ra = self.ra\n",
    "        \n",
    "        self.vp = vp = vCircComp(rp, mu)\n",
    "        self.va = va = vCircComp(ra, mu)\n",
    "                \n",
    "        (self.vp_transfer, self.va_transfer) = (vp_transfer, va_transfer) = transferOrbitComp(rp, ra, mu)\n",
    "\n",
    "        inc = self.inc\n",
    "        inca = self.inca\n",
    "        incp = self.incp\n",
    "\n",
    "        delta_v1 = delta_vComp(vp, vp_transfer, inc - incp)\n",
    "        delta_v2 = delta_vComp(va_transfer, va, inca - inc)\n",
    "        \n",
    "        self.delta_v = delta_v1 + delta_v2\n",
    "        self.delta_inc = inca - incp\n",
    "                        "
   ]
  },
  {
   "cell_type": "code",
   "execution_count": 55,
   "id": "ecfda2a2",
   "metadata": {},
   "outputs": [
    {
     "name": "stdout",
     "output_type": "stream",
     "text": [
      "from vp to vp_transfer :  7.72583947913639 10.151608507443248\n",
      "from va_transfer to va :  1.6078275688432315 3.074666284127684\n",
      "non optimal delta_v  6.456130232084301\n",
      "optimal delta_v  4.2313545928422815\n",
      "optimal delta_inc  2.2001563573042695\n"
     ]
    }
   ],
   "source": [
    "# create System\n",
    "prob = Hohmann('hohmann')\n",
    "prob.rp = 6678\n",
    "prob.ra = 42164\n",
    "\n",
    "prob.incp = 28.5\n",
    "prob.inc = 0\n",
    "\n",
    "prob.run_drivers()\n",
    "assert abs(prob.vp - 7.73) < 1e-2\n",
    "assert abs(prob.va - 3.07) < 1e-2\n",
    "\n",
    "print('from vp to vp_transfer : ', prob.vp, prob.vp_transfer)\n",
    "print('from va_transfer to va : ', prob.va_transfer, prob.va)\n",
    "\n",
    "print('non optimal delta_v ', prob.delta_v)\n",
    "\n",
    "# setup the optimization\n",
    "\n",
    "opt = prob.add_driver(Optimizer('optimization'))\n",
    "\n",
    "opt.runner.design.extend(prob.design_methods['gto_inc'])\n",
    "opt.runner.set_objective('delta_v')\n",
    "\n",
    "# run\n",
    "prob.run_drivers()\n",
    "\n",
    "print('optimal delta_v ', prob.delta_v)\n",
    "print('optimal delta_inc ', prob.incp - prob.inc)"
   ]
  },
  {
   "cell_type": "code",
   "execution_count": 37,
   "id": "18467970",
   "metadata": {},
   "outputs": [
    {
     "name": "stderr",
     "output_type": "stream",
     "text": [
      "Driver 'optimization' already exists and will be replaced\n"
     ]
    },
    {
     "name": "stdout",
     "output_type": "stream",
     "text": [
      "-28.5\n",
      "4.267658111781678\n",
      "2.1639629765204624\n"
     ]
    }
   ],
   "source": []
  },
  {
   "cell_type": "code",
   "execution_count": 34,
   "id": "a3ae84ea",
   "metadata": {},
   "outputs": [
    {
     "data": {
      "text/plain": [
       "OrderedDict([('inwards',\n",
       "              ExtensiblePort: {'mu': 398600.4418, 'rp': 6578, 'ra': 42270, 'incp': 28.5, 'inca': 0.0, 'inc': 26.336036978479534})])"
      ]
     },
     "execution_count": 34,
     "metadata": {},
     "output_type": "execute_result"
    }
   ],
   "source": [
    "prob.inputs"
   ]
  },
  {
   "cell_type": "code",
   "execution_count": null,
   "id": "58e84b49",
   "metadata": {},
   "outputs": [],
   "source": []
  }
 ],
 "metadata": {
  "kernelspec": {
   "display_name": "Python 3",
   "language": "python",
   "name": "python3"
  },
  "language_info": {
   "codemirror_mode": {
    "name": "ipython",
    "version": 3
   },
   "file_extension": ".py",
   "mimetype": "text/x-python",
   "name": "python",
   "nbconvert_exporter": "python",
   "pygments_lexer": "ipython3",
   "version": "3.9.2"
  }
 },
 "nbformat": 4,
 "nbformat_minor": 5
}
